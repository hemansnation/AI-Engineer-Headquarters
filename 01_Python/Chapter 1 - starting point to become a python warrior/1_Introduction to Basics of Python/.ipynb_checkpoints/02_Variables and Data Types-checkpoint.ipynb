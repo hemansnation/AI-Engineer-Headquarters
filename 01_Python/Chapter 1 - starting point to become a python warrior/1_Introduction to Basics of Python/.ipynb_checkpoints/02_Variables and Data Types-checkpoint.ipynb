{
 "cells": [
  {
   "cell_type": "markdown",
   "id": "a6331ccf",
   "metadata": {},
   "source": [
    "# Variables and Data Types"
   ]
  },
  {
   "cell_type": "code",
   "execution_count": 1,
   "id": "996e438d",
   "metadata": {},
   "outputs": [
    {
     "name": "stdout",
     "output_type": "stream",
     "text": [
      "10\n"
     ]
    }
   ],
   "source": [
    "a = 10\n",
    "\n",
    "print(a)"
   ]
  },
  {
   "cell_type": "code",
   "execution_count": 2,
   "id": "0c6ed733",
   "metadata": {},
   "outputs": [
    {
     "name": "stdout",
     "output_type": "stream",
     "text": [
      "10.65\n"
     ]
    }
   ],
   "source": [
    "b = 10.65\n",
    "\n",
    "print(b)"
   ]
  },
  {
   "cell_type": "code",
   "execution_count": 3,
   "id": "ffc1c9b9",
   "metadata": {},
   "outputs": [
    {
     "name": "stdout",
     "output_type": "stream",
     "text": [
      "India\n"
     ]
    }
   ],
   "source": [
    "c = \"India\"\n",
    "\n",
    "print(c)"
   ]
  },
  {
   "cell_type": "markdown",
   "id": "d3d5e19b",
   "metadata": {},
   "source": [
    "# Data Types\n",
    "\n",
    "#### type function"
   ]
  },
  {
   "cell_type": "code",
   "execution_count": 4,
   "id": "f4f35f8a",
   "metadata": {},
   "outputs": [
    {
     "name": "stdout",
     "output_type": "stream",
     "text": [
      "10\n",
      "<class 'int'>\n"
     ]
    }
   ],
   "source": [
    "a = 10\n",
    "\n",
    "print(a)\n",
    "\n",
    "print(type(a))"
   ]
  },
  {
   "cell_type": "code",
   "execution_count": 5,
   "id": "62b76e6f",
   "metadata": {},
   "outputs": [
    {
     "name": "stdout",
     "output_type": "stream",
     "text": [
      "10.65\n",
      "<class 'float'>\n"
     ]
    }
   ],
   "source": [
    "b = 10.65\n",
    "\n",
    "print(b)\n",
    "\n",
    "print(type(b))"
   ]
  },
  {
   "cell_type": "code",
   "execution_count": 6,
   "id": "6255c004",
   "metadata": {},
   "outputs": [
    {
     "name": "stdout",
     "output_type": "stream",
     "text": [
      "India\n",
      "<class 'str'>\n"
     ]
    }
   ],
   "source": [
    "c = \"India\"\n",
    "\n",
    "print(c)\n",
    "\n",
    "print(type(c))"
   ]
  },
  {
   "cell_type": "code",
   "execution_count": 7,
   "id": "75a61520",
   "metadata": {},
   "outputs": [
    {
     "name": "stdout",
     "output_type": "stream",
     "text": [
      "15\n",
      "10\n"
     ]
    }
   ],
   "source": [
    "a = 10\n",
    "\n",
    "print(a + 5)\n",
    "\n",
    "print(a)"
   ]
  },
  {
   "cell_type": "code",
   "execution_count": 8,
   "id": "942f3876",
   "metadata": {},
   "outputs": [
    {
     "name": "stdout",
     "output_type": "stream",
     "text": [
      "15\n"
     ]
    }
   ],
   "source": [
    "a = 10\n",
    "\n",
    "a = a + 5\n",
    "\n",
    "print(a)"
   ]
  },
  {
   "cell_type": "markdown",
   "id": "fde9e8a3",
   "metadata": {},
   "source": [
    "### String Literals\n",
    "can be assigned multi line sentences into a variable within \"\"\" \"\"\""
   ]
  },
  {
   "cell_type": "code",
   "execution_count": 1,
   "id": "2bcc5243",
   "metadata": {},
   "outputs": [
    {
     "name": "stdout",
     "output_type": "stream",
     "text": [
      "\n",
      "Hi.\n",
      "How does String Literal work?\n",
      "This is\n",
      "a   \n",
      "     demo\n",
      "\n"
     ]
    }
   ],
   "source": [
    "a = \"\"\"\n",
    "Hi.\n",
    "How does String Literal work?\n",
    "This is\n",
    "a   \n",
    "     demo\n",
    "\"\"\"\n",
    "print(a)"
   ]
  },
  {
   "cell_type": "markdown",
   "id": "dd21408b",
   "metadata": {},
   "source": [
    "### Multple statements Printing\n",
    "\n",
    "- Concatenating with '+'\n",
    "- use ',': It will print with space in between"
   ]
  },
  {
   "cell_type": "code",
   "execution_count": 2,
   "id": "8a1c6e9e",
   "metadata": {},
   "outputs": [
    {
     "name": "stdout",
     "output_type": "stream",
     "text": [
      "My Name is Random\n",
      "My Age is 20\n"
     ]
    }
   ],
   "source": [
    "name = \"Random\"\n",
    "age = 20\n",
    "print(\"My Name is \" + name)\n",
    "print(\"My Age is\", age)"
   ]
  },
  {
   "cell_type": "markdown",
   "id": "f214fa2b",
   "metadata": {},
   "source": [
    "**Note**\n",
    "\n",
    "We Cannot concatenate(+) for age statement because age is an integer. Need to convert type to concatenate\n",
    "\n",
    "\n",
    "### Formatted string literals\n",
    "\n",
    "To use f-strings correctly, you should prefix the string with an 'f' character, and then you can enclose expressions in curly braces {} within the string. The expressions inside the curly braces will be evaluated and their values will be inserted into the string."
   ]
  },
  {
   "cell_type": "code",
   "execution_count": 3,
   "id": "26791bb9",
   "metadata": {},
   "outputs": [
    {
     "name": "stdout",
     "output_type": "stream",
     "text": [
      "My name is Random and my age is 20\n"
     ]
    }
   ],
   "source": [
    "print(f\"My name is {name} and my age is {age}\")"
   ]
  }
 ],
 "metadata": {
  "kernelspec": {
   "display_name": "Python 3 (ipykernel)",
   "language": "python",
   "name": "python3"
  },
  "language_info": {
   "codemirror_mode": {
    "name": "ipython",
    "version": 3
   },
   "file_extension": ".py",
   "mimetype": "text/x-python",
   "name": "python",
   "nbconvert_exporter": "python",
   "pygments_lexer": "ipython3",
   "version": "3.9.13"
  }
 },
 "nbformat": 4,
 "nbformat_minor": 5
}
