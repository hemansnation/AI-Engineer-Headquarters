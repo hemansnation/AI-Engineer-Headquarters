{
 "cells": [
  {
   "cell_type": "markdown",
   "id": "0fa82ecf",
   "metadata": {},
   "source": [
    "# Comments\n",
    "\n",
    "### Single Line Comments\n",
    "Adding a # before the comment indicate single line comment"
   ]
  },
  {
   "cell_type": "code",
   "execution_count": 1,
   "id": "02bb3844",
   "metadata": {},
   "outputs": [],
   "source": [
    "# This is first comment\n",
    "# This is second comment"
   ]
  },
  {
   "cell_type": "markdown",
   "id": "23f4e9b9",
   "metadata": {},
   "source": [
    "### Multiline Comments\n",
    "It is better to use # every line for multiline comments. However if necessary use a multiline string. Since Python will ignore string literals that are not assigned to a variable, you can add a multiline string (triple quotes) in your code, and place your comment inside it. As long as the string is not assigned to a variable, Python will read the code, but then ignore it"
   ]
  },
  {
   "cell_type": "code",
   "execution_count": 2,
   "id": "c43c92af",
   "metadata": {},
   "outputs": [
    {
     "name": "stdout",
     "output_type": "stream",
     "text": [
      "4\n"
     ]
    }
   ],
   "source": [
    "\"\"\"\n",
    "Hi.\n",
    "This is a demo.\n",
    "This is\n",
    "a   \n",
    "     multiline comment\n",
    "\"\"\"\n",
    "\n",
    "a = 4\n",
    "print(a)"
   ]
  }
 ],
 "metadata": {
  "kernelspec": {
   "display_name": "Python 3 (ipykernel)",
   "language": "python",
   "name": "python3"
  },
  "language_info": {
   "codemirror_mode": {
    "name": "ipython",
    "version": 3
   },
   "file_extension": ".py",
   "mimetype": "text/x-python",
   "name": "python",
   "nbconvert_exporter": "python",
   "pygments_lexer": "ipython3",
   "version": "3.9.13"
  }
 },
 "nbformat": 4,
 "nbformat_minor": 5
}
